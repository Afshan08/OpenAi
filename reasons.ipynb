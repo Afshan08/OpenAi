{
 "cells": [
  {
   "cell_type": "markdown",
   "id": "88ad7cf3",
   "metadata": {},
   "source": [
    "## **First Question Answer Reason**"
   ]
  },
  {
   "cell_type": "markdown",
   "id": "9ebd5dbe",
   "metadata": {},
   "source": [
    "- **A.** `\"Your friend's next class is computer science.\"`  \n",
    "  *Because the context clearly provides the answer, and the agent is instructed to use it.*\n",
    "\n",
    "- **B.** `\"I'm sorry, I do not have access to your friend's schedule.\"`  \n",
    "  *Because plain string context is not automatically parsed or structured in the Agent SDK.*\n",
    "\n",
    "- **C.** *Runtime error due to invalid context type.*  \n",
    "  *Because the SDK only accepts dataclass-based context objects.*\n",
    "\n",
    "- **D.** `\"The agent answeringagent is not valid because it was not defined with a context model.\"`  \n",
    "  *Because you didn't specify `Agent[str]` or `Agent[UserContext]`.*"
   ]
  },
  {
   "cell_type": "code",
   "execution_count": null,
   "id": "698496bd",
   "metadata": {},
   "outputs": [],
   "source": []
  },
  {
   "cell_type": "markdown",
   "id": "ef9e0d51",
   "metadata": {},
   "source": [
    "# **Correct Answer: B**"
   ]
  },
  {
   "cell_type": "markdown",
   "id": "e0ff811d",
   "metadata": {},
   "source": [
    "## **Corrected Version of the code of question 1**"
   ]
  },
  {
   "cell_type": "code",
   "execution_count": 2,
   "id": "cc343a8f",
   "metadata": {},
   "outputs": [],
   "source": [
    "from openai import OpenAI\n",
    "from agents.run import RunConfig\n",
    "from agents import Agent, Runner, AsyncOpenAI, OpenAIChatCompletionsModel, RunContextWrapper, function_tool\n",
    "import asyncio\n",
    "from dataclasses import dataclass\n",
    "from pydantic import BaseModel, Field"
   ]
  },
  {
   "cell_type": "code",
   "execution_count": null,
   "id": "083d1217",
   "metadata": {},
   "outputs": [],
   "source": [
    "gemini_api_key = \"your_gemini_api_key_here\"  # Replace with your actual Gemini API key\n",
    "client = AsyncOpenAI(\n",
    "    api_key=gemini_api_key,\n",
    "    base_url=\"https://generativelanguage.googleapis.com/v1beta/openai/\"\n",
    ")\n",
    "model = OpenAIChatCompletionsModel(\n",
    "    model=\"gemini-2.0-flash\",\n",
    "    openai_client=client\n",
    ")\n",
    "\n",
    "config = RunConfig(\n",
    "    model=model,\n",
    "    model_provider=client,\n",
    "    tracing_disabled=True\n",
    ")"
   ]
  },
  {
   "cell_type": "code",
   "execution_count": 14,
   "id": "14523792",
   "metadata": {},
   "outputs": [
    {
     "name": "stdout",
     "output_type": "stream",
     "text": [
      "Umme-habiba is your friend and she has PIAIC quarter two class.\n",
      "\n"
     ]
    }
   ],
   "source": [
    "\n",
    "\n",
    "\n",
    "\n",
    "@dataclass\n",
    "class FriendClass():\n",
    "    friend_name:str\n",
    "    class_name:str\n",
    "\n",
    "\n",
    "\n",
    "## code:\n",
    "async def main():\n",
    "    ctx = FriendClass(friend_name=\"Umme-habiba\", class_name=\"PIAIC quarter two class\")\n",
    "    \n",
    "    @function_tool\n",
    "    async def fetch_friends_data(wrapper: RunContextWrapper[FriendClass]) -> str:\n",
    "        \"\"\"\n",
    "            Returns the friends name and class by accessing the context object.\n",
    "            No arguments are required.\n",
    "        \"\"\"\n",
    "        return f\"{wrapper.context.friend_name} is my friend having {wrapper.context.class_name} class.\"\n",
    "\n",
    "        \n",
    "    answeringagent = Agent[FriendClass](\n",
    "        name=\"answering_agent\",\n",
    "        handoff_description=\"Specialist agent for answering questions about friends' classes.\",\n",
    "        instructions=(\n",
    "            \"You are given a context object with fields 'friend_name' and 'class_name'. \"\n",
    "            \"Use the tool 'fetch_friends_data' to answer questions about this context.\"\n",
    "            \"If asked about the friends class, use the available tool to fetch it. do not ask it just fetch the data The tool works using context only and does not take user input\"\n",
    "        ),\n",
    "        model=model,\n",
    "        tools=[fetch_friends_data],\n",
    "    )\n",
    "    Triage_agent = Agent[FriendClass](\n",
    "        name=\"orchestrator_agent\",\n",
    "        instructions=\"You are going to handoff the task to the appropriate agent.\",\n",
    "        handoffs=[answeringagent],\n",
    "        model=model,\n",
    "    )\n",
    "    \n",
    "        \n",
    "    answer = await Runner.run(Triage_agent, \"Tell me what is the class my friend Umme habiba will attend today? \", context=ctx )\n",
    "    print(answer.final_output)\n",
    "\n",
    "if __name__ == \"__main__\":\n",
    "    await main()\n",
    "\n"
   ]
  },
  {
   "cell_type": "code",
   "execution_count": 14,
   "id": "23e3295a",
   "metadata": {},
   "outputs": [
    {
     "name": "stdout",
     "output_type": "stream",
     "text": [
      "The user is 47 years old.\n",
      "\n"
     ]
    }
   ],
   "source": [
    "import asyncio\n",
    "from dataclasses import dataclass\n",
    "\n",
    "from agents import Agent, RunContextWrapper, Runner, function_tool\n",
    "\n",
    "@dataclass\n",
    "class UserInfo:  \n",
    "    name: str\n",
    "    uid: int\n",
    "\n",
    "@function_tool\n",
    "async def fetch_user_age(wrapper: RunContextWrapper[UserInfo]) -> str: \n",
    "    \"\"\"\n",
    "        Returns the user's age by accessing the context object.\n",
    "        No arguments are required.\n",
    "    \"\"\" \n",
    "    return f\"User {wrapper.context.name} is 47 years old\"\n",
    "\n",
    "async def main():\n",
    "    user_info = UserInfo(name=\"John\", uid=123)\n",
    "\n",
    "    agent = Agent[UserInfo](  \n",
    "        name=\"Assistant\",\n",
    "        instructions=\"If asked about the user's age, use the available tool to fetch it. The tool works using context only and does not take user input\",\n",
    "        tools=[fetch_user_age],\n",
    "        model=model,\n",
    "    )\n",
    "\n",
    "    result = await Runner.run(  \n",
    "        starting_agent=agent,\n",
    "        input=\"What is the age of the user?\",\n",
    "        context=user_info,\n",
    "    )\n",
    "\n",
    "    print(result.final_output)  \n",
    "    # The user John is 47 years old.\n",
    "\n",
    "if __name__ == \"__main__\":\n",
    "    await main()"
   ]
  },
  {
   "cell_type": "markdown",
   "id": "5c389e8b",
   "metadata": {},
   "source": [
    "### **Important things that I learned about context management in between agents**\n",
    "\n",
    "- 1 thing is that agent does not knows how to transfer string as context to the agnets therefore we should make dataclass\n",
    "- data classes are made to let the agents know that the context you are going to recive would be of this type\n",
    "- also the type of context is not enough for the agent to understand how to use the agent we will have to use a function that has the RunContextWrapper class as a type of the input and gives str output so that the agent can use it and answer the question\n",
    "- Also the agent should know that they will not be needing to input the arguments because that is directly given by the class called RunContextWrapper to the function and the agent can directly call it\n",
    "- Runner.run or any function when will have the context it should be the type given to the agent with agent_name[T] of any type made by dataclass and make sure the information are filled in the required variables of the custom dataclass you made"
   ]
  },
  {
   "cell_type": "markdown",
   "id": "50f6b2e2",
   "metadata": {},
   "source": [
    "### Question 2 **Code does not works!**"
   ]
  },
  {
   "cell_type": "code",
   "execution_count": null,
   "id": "f57dff1f",
   "metadata": {},
   "outputs": [],
   "source": [
    "async def main():\n",
    "    \n",
    "    # there is no function_tool decorator here, so the tool will not be used. and the agent\n",
    "    # does not knows how to call the tool.\n",
    "    async def answer_question() -> str:\n",
    "        \"\"\"If the agent can not answer the question, it will use this tool to answer it.\"\"\"\n",
    "        print(\"Answering question using the tool...\")\n",
    "\n",
    "    agent = Agent(\n",
    "        model=model,\n",
    "        name=\"example_agent\",\n",
    "        instructions=\"You are an agent that can answer questions about a specific topic.\",\n",
    "        tools=[answer_question]\n",
    "    )\n",
    "    \n",
    "    result = await Runner.run(agent, \"What is my father's name?\")\n",
    "    \n",
    "    print(result.final_output)\n",
    "    # The tool will be used to answer the question.\n",
    "if __name__ == \"__main__\":\n",
    "    await main()"
   ]
  },
  {
   "cell_type": "markdown",
   "id": "10617ea5",
   "metadata": {},
   "source": [
    "### *Two Better Ways*"
   ]
  },
  {
   "cell_type": "code",
   "execution_count": null,
   "id": "3b237306",
   "metadata": {},
   "outputs": [],
   "source": [
    "from typing import Any\n",
    "\"\"\"\n",
    "    The first is obvious just use the function decorator tool\n",
    "\"\"\"\n",
    "\n",
    "\"\"\" \n",
    "    The second way is to import the FunctionTool class and use it directly. because\n",
    "    the function_tool decorator also analyzes the function signatures it into the FunctionTool class\n",
    "    to make it useable.\n",
    "\"\"\"\n",
    "\n",
    "## code:\n",
    "from agents import FunctionTool\n",
    "\n",
    "async def main():\n",
    "    class AnswerQuestion(BaseModel):\n",
    "        question: str = Field(..., description=\"The question to answer.\")\n",
    "    \n",
    "    async def answer_question(context :RunContextWrapper[Any], *args) -> str:\n",
    "        \"\"\"A tool to answer questions. If the agent can not answer the question, it will use this tool to answer it.\"\"\"\n",
    "        parsed = AnswerQuestion.model_validate_json(args)\n",
    "        return f\"You asked: {parsed.question}\"\n",
    "\n",
    "\n",
    "    answering_tool = FunctionTool(\n",
    "        name=\"answer_question\",\n",
    "        description=\"A tool to answer questions. call it whenever the agent does not know tha answer. It also does not needs any arguments.S\",\n",
    "        params_json_schema=AnswerQuestion.model_json_schema(),\n",
    "        on_invoke_tool=answer_question,\n",
    "    )\n",
    "    \n",
    "    agent = Agent(\n",
    "        model=model,\n",
    "        name=\"example_agent\",\n",
    "        instructions=\"You are an agent that will only call the tool and answer the users question.\",\n",
    "        tools=[answering_tool]\n",
    "    )\n",
    "    \n",
    "    result = await Runner.run(agent, \"What is my father's name?\")\n",
    "    \n",
    "    print(result.final_output)\n",
    "    # The tool will be used to answer the question.\n",
    "if __name__ == \"__main__\":\n",
    "    await main()\n"
   ]
  },
  {
   "cell_type": "code",
   "execution_count": 16,
   "id": "4e569249",
   "metadata": {},
   "outputs": [],
   "source": [
    "from typing import Any\n",
    "\n",
    "from pydantic import BaseModel\n",
    "\n",
    "from agents import RunContextWrapper, FunctionTool\n",
    "\n",
    "\n",
    "\n",
    "def do_some_work(data: str) -> str:\n",
    "    return \"done\"\n",
    "\n",
    "\n",
    "class FunctionArgs(BaseModel):\n",
    "    username: str\n",
    "    age: int\n",
    "\n",
    "async def main():\n",
    "    async def run_function(ctx: RunContextWrapper[Any], args: str) -> str:\n",
    "        parsed = FunctionArgs.model_validate_json(args)\n",
    "        return do_some_work(data=f\"{parsed.username} is {parsed.age} years old\")\n",
    "\n",
    "\n",
    "    tool = FunctionTool(\n",
    "        name=\"process_user\",\n",
    "        description=\"Processes extracted user data\",\n",
    "        params_json_schema=FunctionArgs.model_json_schema(),\n",
    "        on_invoke_tool=run_function,\n",
    "    )\n",
    "    \n",
    "    agent_tools = Agent[FunctionArgs](\n",
    "        model=model,\n",
    "        name=\"example_agent\",\n",
    "        instructions=\"You are an agent that can process user data. and answer questions about it. You can use the tool 'process_user' to process the user data.\",\n",
    "        tools=[tool]\n",
    "    )\n",
    "    \n",
    "    result = await Runner.run(\n",
    "        agent_tools,\n",
    "        \"Process the user data for John and tell me his age.\",\n",
    "        context=RunContextWrapper(context=FunctionArgs(username=\"John\", age=30))\n",
    "    )\n",
    "    print(result.final_output)"
   ]
  }
 ],
 "metadata": {
  "kernelspec": {
   "display_name": "EmailAgent",
   "language": "python",
   "name": "python3"
  },
  "language_info": {
   "codemirror_mode": {
    "name": "ipython",
    "version": 3
   },
   "file_extension": ".py",
   "mimetype": "text/x-python",
   "name": "python",
   "nbconvert_exporter": "python",
   "pygments_lexer": "ipython3",
   "version": "3.13.5"
  }
 },
 "nbformat": 4,
 "nbformat_minor": 5
}
