{
 "cells": [
  {
   "cell_type": "markdown",
   "id": "6e5e94e1",
   "metadata": {},
   "source": [
    "### **What is the possible output of the question: Tell me about the next class of my friend?**"
   ]
  },
  {
   "cell_type": "code",
   "execution_count": null,
   "id": "4c5ea7c0",
   "metadata": {},
   "outputs": [],
   "source": [
    "from openai import OpenAI\n",
    "from agents.run import RunConfig\n",
    "from agents import Agent, Runner, AsyncOpenAI, OpenAIChatCompletionsModel\n",
    "import asyncio\n",
    "\n",
    "gemini_api_key = \"your_gemini_api_key_here\"  # Replace with your actual Gemini API key\n",
    "client = AsyncOpenAI(\n",
    "    api_key=gemini_api_key,\n",
    "    base_url=\"https://generativelanguage.googleapis.com/v1beta/openai/\"\n",
    ")\n",
    "model = OpenAIChatCompletionsModel(\n",
    "    model=\"gemini-2.0-flash\",\n",
    "    openai_client=client\n",
    ")\n",
    "\n",
    "config = RunConfig(\n",
    "    model=model,\n",
    "    model_provider=client,\n",
    "    tracing_disabled=True\n",
    ")\n",
    "\n",
    "\n",
    "\n",
    "\n",
    "## code:\n",
    "\n",
    "async def main():\n",
    "    answeringagent = Agent (\n",
    "        name=\"answering_agent\",\n",
    "        instructions=\"answer the question user asks you by looking at the context.\",\n",
    "        model=model,\n",
    "        )\n",
    "    Triage_agent = Agent(\n",
    "        name=\"orchestrator_agent\",\n",
    "        instructions=\"You are going to handoff the task to the appropriate agent\",\n",
    "        handoffs=[answeringagent],\n",
    "        model=model,\n",
    "    )\n",
    "        \n",
    "    answer = await Runner.run(Triage_agent, \"Tell me what is the class my friend will attend today? \", context=\"My friend has a computer science class today\" )\n",
    "    print(answer.final_output)\n",
    "\n",
    "if __name__ == \"__main__\":\n",
    "    await main()\n",
    "\n"
   ]
  },
  {
   "cell_type": "markdown",
   "id": "5ca81607",
   "metadata": {},
   "source": [
    "- **A.** `\"Your friend's next class is computer science.\"`  \n",
    "\n",
    "\n",
    "- **B.** `\"I'm sorry, I do not have access to your friend's schedule.\"`  \n",
    "\n",
    "\n",
    "- **C.** *Runtime error due to invalid context type.*  \n",
    "\n",
    "\n",
    "- **D.** `\"The agent answeringagent is not valid because it was not defined with a context model.\"`  "
   ]
  },
  {
   "cell_type": "markdown",
   "id": "0e1078a2",
   "metadata": {},
   "source": [
    "### Will this code work?"
   ]
  },
  {
   "cell_type": "code",
   "execution_count": null,
   "id": "ddd00b04",
   "metadata": {},
   "outputs": [],
   "source": [
    "async def main():\n",
    "    \n",
    "    async def answer_question() -> str:\n",
    "        \"\"\"If the agent can not answer the question, it will use this tool to answer it.\"\"\"\n",
    "        print(\"Answering question using the tool...\")\n",
    "\n",
    "    agent = Agent(\n",
    "        model=model,\n",
    "        name=\"example_agent\",\n",
    "        instructions=\"You are an agent that can answer questions about a specific topic.\",\n",
    "        tools=[answer_question]\n",
    "    )\n",
    "    \n",
    "    result = await Runner.run(agent, \"What is my father's name?\")\n",
    "    \n",
    "    print(result.final_output)\n",
    "    # The tool will be used to answer the question.\n",
    "if __name__ == \"__main__\":\n",
    "    await main()"
   ]
  },
  {
   "cell_type": "markdown",
   "id": "3e6dcaca",
   "metadata": {},
   "source": [
    "- **A.** `\"Yes\"`  \n",
    "\n",
    "\n",
    "- **B.** `\"No it has syntax error.\"`  \n",
    "\n",
    "- **c.** `\"No it has logical error.\"`  "
   ]
  },
  {
   "cell_type": "code",
   "execution_count": null,
   "id": "467e51c8",
   "metadata": {},
   "outputs": [],
   "source": []
  },
  {
   "cell_type": "markdown",
   "id": "ee54c3ec",
   "metadata": {},
   "source": []
  }
 ],
 "metadata": {
  "kernelspec": {
   "display_name": "EmailAgent",
   "language": "python",
   "name": "python3"
  },
  "language_info": {
   "codemirror_mode": {
    "name": "ipython",
    "version": 3
   },
   "file_extension": ".py",
   "mimetype": "text/x-python",
   "name": "python",
   "nbconvert_exporter": "python",
   "pygments_lexer": "ipython3",
   "version": "3.13.5"
  }
 },
 "nbformat": 4,
 "nbformat_minor": 5
}
